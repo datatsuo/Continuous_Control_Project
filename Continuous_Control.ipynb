{
 "cells": [
  {
   "cell_type": "markdown",
   "metadata": {},
   "source": [
    "# Continuous Control\n",
    "\n",
    "---\n",
    "\n",
    "In this notebook, you will learn how to use the Unity ML-Agents environment for the second project of the [Deep Reinforcement Learning Nanodegree](https://www.udacity.com/course/deep-reinforcement-learning-nanodegree--nd893) program.\n",
    "\n",
    "### 1. Start the Environment\n",
    "\n",
    "We begin by importing the necessary packages.  If the code cell below returns an error, please revisit the project instructions to double-check that you have installed [Unity ML-Agents](https://github.com/Unity-Technologies/ml-agents/blob/master/docs/Installation.md) and [NumPy](http://www.numpy.org/)."
   ]
  },
  {
   "cell_type": "code",
   "execution_count": 1,
   "metadata": {
    "collapsed": true
   },
   "outputs": [],
   "source": [
    "from unityagents import UnityEnvironment\n",
    "import numpy as np"
   ]
  },
  {
   "cell_type": "markdown",
   "metadata": {},
   "source": [
    "Next, we will start the environment!  **_Before running the code cell below_**, change the `file_name` parameter to match the location of the Unity environment that you downloaded.\n",
    "\n",
    "- **Mac**: `\"path/to/Reacher.app\"`\n",
    "- **Windows** (x86): `\"path/to/Reacher_Windows_x86/Reacher.exe\"`\n",
    "- **Windows** (x86_64): `\"path/to/Reacher_Windows_x86_64/Reacher.exe\"`\n",
    "- **Linux** (x86): `\"path/to/Reacher_Linux/Reacher.x86\"`\n",
    "- **Linux** (x86_64): `\"path/to/Reacher_Linux/Reacher.x86_64\"`\n",
    "- **Linux** (x86, headless): `\"path/to/Reacher_Linux_NoVis/Reacher.x86\"`\n",
    "- **Linux** (x86_64, headless): `\"path/to/Reacher_Linux_NoVis/Reacher.x86_64\"`\n",
    "\n",
    "For instance, if you are using a Mac, then you downloaded `Reacher.app`.  If this file is in the same folder as the notebook, then the line below should appear as follows:\n",
    "```\n",
    "env = UnityEnvironment(file_name=\"Reacher.app\")\n",
    "```"
   ]
  },
  {
   "cell_type": "code",
   "execution_count": 2,
   "metadata": {},
   "outputs": [
    {
     "name": "stderr",
     "output_type": "stream",
     "text": [
      "INFO:unityagents:\n",
      "'Academy' started successfully!\n",
      "Unity Academy name: Academy\n",
      "        Number of Brains: 1\n",
      "        Number of External Brains : 1\n",
      "        Lesson number : 0\n",
      "        Reset Parameters :\n",
      "\t\tgoal_speed -> 1.0\n",
      "\t\tgoal_size -> 5.0\n",
      "Unity brain name: ReacherBrain\n",
      "        Number of Visual Observations (per agent): 0\n",
      "        Vector Observation space type: continuous\n",
      "        Vector Observation space size (per agent): 33\n",
      "        Number of stacked Vector Observation: 1\n",
      "        Vector Action space type: continuous\n",
      "        Vector Action space size (per agent): 4\n",
      "        Vector Action descriptions: , , , \n"
     ]
    }
   ],
   "source": [
    "env = UnityEnvironment(file_name='Reacher_multiagent.app', seed=15)\n",
    "# env = UnityEnvironment(file_name='Reacher.app', seed=15)"
   ]
  },
  {
   "cell_type": "markdown",
   "metadata": {},
   "source": [
    "Environments contain **_brains_** which are responsible for deciding the actions of their associated agents. Here we check for the first brain available, and set it as the default brain we will be controlling from Python."
   ]
  },
  {
   "cell_type": "code",
   "execution_count": 3,
   "metadata": {
    "collapsed": true
   },
   "outputs": [],
   "source": [
    "# get the default brain\n",
    "brain_name = env.brain_names[0]\n",
    "brain = env.brains[brain_name]"
   ]
  },
  {
   "cell_type": "markdown",
   "metadata": {},
   "source": [
    "### 2. Examine the State and Action Spaces\n",
    "\n",
    "In this environment, a double-jointed arm can move to target locations. A reward of `+0.1` is provided for each step that the agent's hand is in the goal location. Thus, the goal of your agent is to maintain its position at the target location for as many time steps as possible.\n",
    "\n",
    "The observation space consists of `33` variables corresponding to position, rotation, velocity, and angular velocities of the arm.  Each action is a vector with four numbers, corresponding to torque applicable to two joints.  Every entry in the action vector must be a number between `-1` and `1`.\n",
    "\n",
    "Run the code cell below to print some information about the environment."
   ]
  },
  {
   "cell_type": "code",
   "execution_count": 4,
   "metadata": {},
   "outputs": [
    {
     "name": "stdout",
     "output_type": "stream",
     "text": [
      "Number of agents: 20\n",
      "Size of each action: 4\n",
      "There are 20 agents. Each observes a state with length: 33\n",
      "The state for the first agent looks like: [  0.00000000e+00  -4.00000000e+00   0.00000000e+00   1.00000000e+00\n",
      "  -0.00000000e+00  -0.00000000e+00  -4.37113883e-08   0.00000000e+00\n",
      "   0.00000000e+00   0.00000000e+00   0.00000000e+00   0.00000000e+00\n",
      "   0.00000000e+00   0.00000000e+00  -1.00000000e+01   0.00000000e+00\n",
      "   1.00000000e+00  -0.00000000e+00  -0.00000000e+00  -4.37113883e-08\n",
      "   0.00000000e+00   0.00000000e+00   0.00000000e+00   0.00000000e+00\n",
      "   0.00000000e+00   0.00000000e+00   7.94036865e+00  -1.00000000e+00\n",
      "  -9.74956512e-01   0.00000000e+00   1.00000000e+00   0.00000000e+00\n",
      "   2.90312499e-01]\n"
     ]
    }
   ],
   "source": [
    "# reset the environment\n",
    "env_info = env.reset(train_mode=True)[brain_name]\n",
    "\n",
    "# number of agents\n",
    "num_agents = len(env_info.agents)\n",
    "print('Number of agents:', num_agents)\n",
    "\n",
    "# size of each action\n",
    "action_size = brain.vector_action_space_size\n",
    "print('Size of each action:', action_size)\n",
    "\n",
    "# examine the state space \n",
    "states = env_info.vector_observations\n",
    "state_size = states.shape[1]\n",
    "print('There are {} agents. Each observes a state with length: {}'.format(states.shape[0], state_size))\n",
    "print('The state for the first agent looks like:', states[0])"
   ]
  },
  {
   "cell_type": "markdown",
   "metadata": {},
   "source": [
    "### 3. Take Random Actions in the Environment\n",
    "\n",
    "In the next code cell, you will learn how to use the Python API to control the agent and receive feedback from the environment.\n",
    "\n",
    "Once this cell is executed, you will watch the agent's performance, if it selects an action at random with each time step.  A window should pop up that allows you to observe the agent, as it moves through the environment.  \n",
    "\n",
    "Of course, as part of the project, you'll have to change the code so that the agent is able to use its experience to gradually choose better actions when interacting with the environment!"
   ]
  },
  {
   "cell_type": "code",
   "execution_count": 5,
   "metadata": {
    "collapsed": true
   },
   "outputs": [],
   "source": [
    "# env_info = env.reset(train_mode=False)[brain_name]     # reset the environment    \n",
    "# states = env_info.vector_observations                  # get the current state (for each agent)\n",
    "# scores = np.zeros(num_agents)                          # initialize the score (for each agent)\n",
    "# while True:\n",
    "#     actions = np.random.randn(num_agents, action_size) # select an action (for each agent)\n",
    "#     actions = np.clip(actions, -1, 1)                  # all actions between -1 and 1\n",
    "#     env_info = env.step(actions)[brain_name]           # send all actions to tne environment\n",
    "#     next_states = env_info.vector_observations         # get next state (for each agent)\n",
    "#     rewards = env_info.rewards                         # get reward (for each agent)\n",
    "#     dones = env_info.local_done                        # see if episode finished\n",
    "#     scores += env_info.rewards                         # update the score (for each agent)\n",
    "#     states = next_states                               # roll over states to next time step\n",
    "#     if np.any(dones):                                  # exit loop if episode finished\n",
    "#         break\n",
    "# print('Total score (averaged over agents) this episode: {}'.format(np.mean(scores)))"
   ]
  },
  {
   "cell_type": "markdown",
   "metadata": {},
   "source": [
    "When finished, you can close the environment."
   ]
  },
  {
   "cell_type": "code",
   "execution_count": 6,
   "metadata": {
    "collapsed": true
   },
   "outputs": [],
   "source": [
    "# env.close()"
   ]
  },
  {
   "cell_type": "markdown",
   "metadata": {},
   "source": [
    "### 4. It's Your Turn!\n",
    "\n",
    "Now it's your turn to train your own agent to solve the environment!  When training the environment, set `train_mode=True`, so that the line for resetting the environment looks like the following:\n",
    "```python\n",
    "env_info = env.reset(train_mode=True)[brain_name]\n",
    "```"
   ]
  },
  {
   "cell_type": "code",
   "execution_count": 7,
   "metadata": {
    "collapsed": true
   },
   "outputs": [],
   "source": [
    "# import libraries\n",
    "import random\n",
    "import time \n",
    "import torch\n",
    "from collections import deque\n",
    "import matplotlib.pyplot as plt\n",
    "%matplotlib inline\n",
    "\n",
    "# import Agent Module \n",
    "from ddpg_agent import Agent"
   ]
  },
  {
   "cell_type": "code",
   "execution_count": 8,
   "metadata": {},
   "outputs": [
    {
     "name": "stdout",
     "output_type": "stream",
     "text": [
      "----- training started! -----\n",
      "----- episode 10 -----\n",
      "average score (over all agents, last 100 episodes): 1.36, elapsed time: 97.17\n",
      "----- episode 20 -----\n",
      "average score (over all agents, last 100 episodes): 2.78, elapsed time: 98.24\n",
      "----- episode 30 -----\n",
      "average score (over all agents, last 100 episodes): 8.40, elapsed time: 102.78\n",
      "----- episode 40 -----\n",
      "average score (over all agents, last 100 episodes): 15.76, elapsed time: 105.39\n",
      "----- episode 50 -----\n",
      "average score (over all agents, last 100 episodes): 20.17, elapsed time: 104.09\n",
      "----- episode 60 -----\n",
      "average score (over all agents, last 100 episodes): 23.07, elapsed time: 98.73\n",
      "----- episode 70 -----\n",
      "average score (over all agents, last 100 episodes): 24.97, elapsed time: 102.11\n",
      "----- episode 80 -----\n",
      "average score (over all agents, last 100 episodes): 26.37, elapsed time: 99.28\n",
      "----- episode 90 -----\n",
      "average score (over all agents, last 100 episodes): 27.54, elapsed time: 102.24\n",
      "----- episode 100 -----\n",
      "average score (over all agents, last 100 episodes): 28.33, elapsed time: 101.45\n",
      "----- environment solved at episode 106 -----\n",
      "average score (over all agents, last 100 episodes): 30.37\n",
      "----- episode 110 -----\n",
      "average score (over all agents, last 100 episodes): 31.71, elapsed time: 97.84\n",
      "----- episode 120 -----\n",
      "average score (over all agents, last 100 episodes): 34.91, elapsed time: 98.12\n",
      "----- training terminated at episode 125 -----\n",
      "average total score (over all agents, last 100 episodes): 36.05, elapsed time: 48.98\n"
     ]
    }
   ],
   "source": [
    "DISPLAY_EVERY = 10 # display result every DISPLAY_EVERY episodes\n",
    "SOLVED_SCORE = 30 # threshold for solving the environment  \n",
    "THRESHOLD_SCORE = 36 # threshold for terminating the training \n",
    "NUM_EPISODES = 250 # number of episodes for training\n",
    "\n",
    "def ddpg(n_episodes): \n",
    "    \"\"\"\n",
    "    This function is used for training the DDPG agent \n",
    "    and outputs the trained agent, history of the accumulated reward averaged over all the agents for each episode, \n",
    "    as well as history of the accumulated reward averaged over all the agents for the last 100 episodes\n",
    "    \n",
    "    \"\"\"\n",
    "    \n",
    "    # DDPG agent\n",
    "    agent = Agent(state_size, action_size, seed = 1)\n",
    "    \n",
    "    # for storing the accumulated reward averaged over all the agents for each episode\n",
    "    scores_whole_history = []\n",
    "    # for storing the accumulated reward averaged over all the agents for the last 100 episodes \n",
    "    scores_part_history = deque(maxlen=100)\n",
    "    # for storing the history of the accumulated reward averaged over all the agents and over the last 100 episodes\n",
    "    average_scores_whole_history = []\n",
    "    # best average score (over all the agents, over the last 100 episodes)\n",
    "    best_average_score = 0.0 \n",
    "    # if the environment is solved or note\n",
    "    is_solved = False\n",
    "    \n",
    "    print('----- training started! -----')\n",
    "    start_time = time.time() # start time\n",
    "    \n",
    "    for i_episode in range(1, n_episodes+1):\n",
    "        \n",
    "        env_info = env.reset(train_mode = True)[brain_name]    # reset the environment    \n",
    "        states = env_info.vector_observations                  # get the current state (for each agent)\n",
    "        scores = np.zeros(num_agents)                          # initialize the score (for each agent)\n",
    "        agent.reset()                                          # reset the noise and counter for time step      \n",
    "        \n",
    "        while True:\n",
    "            actions = agent.act(states)                        # select actions based on the current policy \n",
    "            env_info = env.step(actions)[brain_name]           # send all actions to tne environment\n",
    "            next_states = env_info.vector_observations         # get next state (for each agent)\n",
    "            rewards = env_info.rewards                         # get reward (for each agent)\n",
    "            dones = env_info.local_done                        # see if episode finished\n",
    "            scores += env_info.rewards                         # update the score (for each agent)\n",
    "            agent.step(states, actions, rewards, next_states, dones) # store the experience tuple and learn \n",
    "            states = next_states                               # roll over states to next time step\n",
    "            \n",
    "            if np.any(dones):                                  # exit loop if episode finished for at least one agent\n",
    "                break\n",
    "                \n",
    "        # compute the accumulated reward averaged over all the agents\n",
    "        score_episode = np.mean(scores)\n",
    "        scores_whole_history.append(score_episode) \n",
    "        scores_part_history.append(score_episode)\n",
    "        # compute the accumulated reward averaged over all the agents and over the last 100 episodes\n",
    "        average_score = np.mean(scores_part_history)\n",
    "        average_scores_whole_history.append(average_score)\n",
    "\n",
    "        # is the environment solved nor not\n",
    "        if (is_solved == False) and (best_average_score > SOLVED_SCORE):\n",
    "            is_solved = True\n",
    "            print('----- environment solved at episode {} -----'.format(i_episode))\n",
    "            print('average score (over all agents, last 100 episodes): {:.2f}'.format(average_score))        \n",
    "\n",
    "        # save the model if the best average_score is achieved \n",
    "        if average_score > best_average_score:\n",
    "            best_average_score = average_score # update best average scoree\n",
    "\n",
    "        # display the status of training \n",
    "        if i_episode % DISPLAY_EVERY == 0:\n",
    "            elapsed_time = time.time() - start_time # compute the elapsed time\n",
    "            \n",
    "            print('----- episode {} -----'.format(i_episode))\n",
    "            print('average score (over all agents, last 100 episodes): {:.2f}, elapsed time: {:.2f}'.format(average_score, elapsed_time))\n",
    "            \n",
    "            start_time = time.time() # initialize the starting time          \n",
    "            \n",
    "        # if the accumulated reward averaged over all the agents and over the last 100 episodes \n",
    "        # reaches THRESHOLD_SCORE or higher, terminate the training \n",
    "        if average_score > THRESHOLD_SCORE:\n",
    "            elapsed_time = time.time() - start_time # compute the elapsed time\n",
    "            \n",
    "            print('----- training terminated at episode {} -----'.format(i_episode))\n",
    "            print('average total score (over all agents, last 100 episodes): {:.2f}, elapsed time: {:.2f}'.format(average_score, elapsed_time))\n",
    "        \n",
    "            break\n",
    "\n",
    "    torch.save(agent.actor_local.state_dict(), 'check_point_actor.pth')\n",
    "    torch.save(agent.critic_local.state_dict(), 'check_point_critic.pth') \n",
    "    # print('best average score (over all agents, last 100 episodes): {:.2f}'.format(best_average_score))\n",
    "    \n",
    "    return agent, scores_whole_history, average_scores_whole_history\n",
    "\n",
    "agent, scores_whole_history, average_scores_whole_history = ddpg(NUM_EPISODES)"
   ]
  },
  {
   "cell_type": "code",
   "execution_count": 9,
   "metadata": {},
   "outputs": [
    {
     "data": {
      "image/png": "[encoded data removed]",
      "text/plain": [
       "<matplotlib.figure.Figure at 0x11aefe320>"
      ]
     },
     "metadata": {},
     "output_type": "display_data"
    }
   ],
   "source": [
    "# plot the accumulated reward averaged over all the agents\n",
    "\n",
    "fig = plt.figure()\n",
    "ax = fig.add_subplot(111)\n",
    "plt.plot(np.arange(1, len(scores_whole_history)+1), scores_whole_history)\n",
    "plt.ylabel('score (averaged over all agents)')\n",
    "plt.xlabel('episode #')\n",
    "plt.savefig('scores.eps')\n",
    "plt.show()"
   ]
  },
  {
   "cell_type": "code",
   "execution_count": 10,
   "metadata": {},
   "outputs": [
    {
     "data": {
      "image/png": "[encoded data removed]",
      "text/plain": [
       "<matplotlib.figure.Figure at 0x125c03e10>"
      ]
     },
     "metadata": {},
     "output_type": "display_data"
    }
   ],
   "source": [
    "# plot the accumulated reward averaged over all the agents and over the last 100 episodes \n",
    "\n",
    "fig = plt.figure()\n",
    "ax = fig.add_subplot(111)\n",
    "plt.plot(np.arange(1, len(average_scores_whole_history)+1), average_scores_whole_history)\n",
    "plt.ylabel('averaged score (over last 100 episodes, over all agents)')\n",
    "plt.xlabel('episode #')\n",
    "plt.savefig('average_scores.eps')\n",
    "plt.show()"
   ]
  },
  {
   "cell_type": "code",
   "execution_count": 12,
   "metadata": {},
   "outputs": [
    {
     "name": "stdout",
     "output_type": "stream",
     "text": [
      "score (averaged over all agents): 34.559999227523804\n"
     ]
    }
   ],
   "source": [
    "# # display the performance of the trained agent\n",
    "\n",
    "env_info = env.reset(train_mode=False)[brain_name]     # reset the environment    \n",
    "states = env_info.vector_observations                  # get the current state (for each agent)\n",
    "scores = np.zeros(num_agents)                          # initialize the score (for each agent)\n",
    "\n",
    "# agent = Agent(state_size, action_size, seed = 1)\n",
    "file_name_weights_actor = 'check_point_actor.pth'\n",
    "file_name_weights_critic = 'check_point_critic.pth'\n",
    "\n",
    "# # load the model with the best average score \n",
    "agent.actor_local.load_state_dict(torch.load(file_name_weights_actor))\n",
    "agent.critic_local.load_state_dict(torch.load(file_name_weights_critic))       \n",
    "\n",
    "agent.reset()\n",
    "\n",
    "while True:\n",
    "    actions = agent.act(states)                        # select actions based on the current policy \n",
    "    env_info = env.step(actions)[brain_name]           # send all actions to tne environment\n",
    "    next_states = env_info.vector_observations         # get next state (for each agent)\n",
    "    rewards = env_info.rewards                         # get reward (for each agent)\n",
    "    dones = env_info.local_done                        # see if episode finished\n",
    "    scores += env_info.rewards                         # update the score (for each agent)\n",
    "    agent.step(states, actions, rewards, next_states, dones) # store the experience tuple and learn \n",
    "    states = next_states                               # roll over states to next time step\n",
    "            \n",
    "    if np.any(dones):                                  # exit loop if episode finished for at least one agent\n",
    "        break\n",
    "\n",
    "print('score (averaged over all agents): {}'.format(np.mean(scores)))"
   ]
  },
  {
   "cell_type": "code",
   "execution_count": 13,
   "metadata": {
    "collapsed": true
   },
   "outputs": [],
   "source": [
    "env.close()"
   ]
  },
  {
   "cell_type": "code",
   "execution_count": null,
   "metadata": {
    "collapsed": true
   },
   "outputs": [],
   "source": []
  }
 ],
 "metadata": {
  "kernelspec": {
   "display_name": "Python 3",
   "language": "python",
   "name": "python3"
  },
  "language_info": {
   "codemirror_mode": {
    "name": "ipython",
    "version": 3
   },
   "file_extension": ".py",
   "mimetype": "text/x-python",
   "name": "python",
   "nbconvert_exporter": "python",
   "pygments_lexer": "ipython3",
   "version": "3.6.3"
  }
 },
 "nbformat": 4,
 "nbformat_minor": 2
}
